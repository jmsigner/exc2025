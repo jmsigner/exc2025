{
 "cells": [
  {
   "cell_type": "markdown",
   "id": "5e99152a-a26d-490d-96a5-375f29df44f7",
   "metadata": {},
   "source": [
    "# Exercise 4 \n",
    "\n",
    "The purpose of this exercise is to tackle a simple question with JupyterLab, commit it to Github and finally to mybinder.\n",
    "\n",
    "# 1. Data analysis\n",
    "When loading packages, make sure they are also added to the file `install.R`, so mybinder will install them too."
   ]
  },
  {
   "cell_type": "code",
   "execution_count": 12,
   "id": "2146edca-e9a3-478d-88b2-e9400df077ad",
   "metadata": {
    "vscode": {
     "languageId": "r"
    }
   },
   "outputs": [
    {
     "name": "stderr",
     "output_type": "stream",
     "text": [
      "Warning message in system(\"timedatectl\", intern = TRUE):\n",
      "“running command 'timedatectl' had status 1”\n",
      "── \u001b[1mAttaching packages\u001b[22m ─────────────────────────────────────── tidyverse 1.3.1 ──\n",
      "\n",
      "\u001b[32m✔\u001b[39m \u001b[34mggplot2\u001b[39m 3.5.1     \u001b[32m✔\u001b[39m \u001b[34mpurrr  \u001b[39m 1.0.2\n",
      "\u001b[32m✔\u001b[39m \u001b[34mtibble \u001b[39m 3.2.1     \u001b[32m✔\u001b[39m \u001b[34mdplyr  \u001b[39m 1.1.4\n",
      "\u001b[32m✔\u001b[39m \u001b[34mtidyr  \u001b[39m 1.3.1     \u001b[32m✔\u001b[39m \u001b[34mstringr\u001b[39m 1.5.1\n",
      "\u001b[32m✔\u001b[39m \u001b[34mreadr  \u001b[39m 2.1.5     \u001b[32m✔\u001b[39m \u001b[34mforcats\u001b[39m 1.0.0\n",
      "\n",
      "── \u001b[1mConflicts\u001b[22m ────────────────────────────────────────── tidyverse_conflicts() ──\n",
      "\u001b[31m✖\u001b[39m \u001b[34mdplyr\u001b[39m::\u001b[32mfilter()\u001b[39m masks \u001b[34mstats\u001b[39m::filter()\n",
      "\u001b[31m✖\u001b[39m \u001b[34mdplyr\u001b[39m::\u001b[32mlag()\u001b[39m    masks \u001b[34mstats\u001b[39m::lag()\n",
      "\n"
     ]
    }
   ],
   "source": [
    "# Load packages that we may need later\n",
    "library(tidyverse)"
   ]
  },
  {
   "cell_type": "markdown",
   "id": "b86238f3-bd7d-4daf-8932-f35d3236b6d4",
   "metadata": {},
   "source": [
    "First we have to read the data, we can do this directly from GitHub, since the data are posted there: "
   ]
  },
  {
   "cell_type": "code",
   "execution_count": 19,
   "id": "f4463d09-5e24-4b3d-9d7f-db7f3102a97e",
   "metadata": {
    "vscode": {
     "languageId": "r"
    }
   },
   "outputs": [],
   "source": [
    "try <- read.csv(\"https://raw.githubusercontent.com/NFDI4Biodiversity/SeasonalSchool2024/refs/heads/main/day4/practical_session4/data/try_reduced.csv\")\n",
    "gbif <- read.csv(\"https://raw.githubusercontent.com/NFDI4Biodiversity/SeasonalSchool2024/refs/heads/main/day4/practical_session4/data/gbif_bioclim.csv\")"
   ]
  },
  {
   "cell_type": "code",
   "execution_count": 10,
   "id": "d244f48f-2ea1-4025-92a2-db1c3b5b4cde",
   "metadata": {
    "vscode": {
     "languageId": "r"
    }
   },
   "outputs": [
    {
     "data": {
      "text/html": [
       "<table class=\"dataframe\">\n",
       "<caption>A data.frame: 6 × 5</caption>\n",
       "<thead>\n",
       "\t<tr><th></th><th scope=col>X</th><th scope=col>SpeciesName</th><th scope=col>TraitName</th><th scope=col>StdValue</th><th scope=col>UnitName</th></tr>\n",
       "\t<tr><th></th><th scope=col>&lt;int&gt;</th><th scope=col>&lt;chr&gt;</th><th scope=col>&lt;chr&gt;</th><th scope=col>&lt;dbl&gt;</th><th scope=col>&lt;chr&gt;</th></tr>\n",
       "</thead>\n",
       "<tbody>\n",
       "\t<tr><th scope=row>1</th><td>1</td><td>Castanea sativa </td><td>Seed dry mass</td><td>1433.000</td><td>mg</td></tr>\n",
       "\t<tr><th scope=row>2</th><td>2</td><td>Fagus sylvatica </td><td>Seed dry mass</td><td> 158.000</td><td>mg</td></tr>\n",
       "\t<tr><th scope=row>3</th><td>3</td><td>Larix decidua   </td><td>Seed dry mass</td><td>   6.244</td><td>mg</td></tr>\n",
       "\t<tr><th scope=row>4</th><td>4</td><td>Picea sitchensis</td><td>Seed dry mass</td><td>   2.940</td><td>mg</td></tr>\n",
       "\t<tr><th scope=row>5</th><td>5</td><td>Pinus sylvestris</td><td>Seed dry mass</td><td>   6.190</td><td>mg</td></tr>\n",
       "\t<tr><th scope=row>6</th><td>6</td><td>Quercus cerris  </td><td>Seed dry mass</td><td>1900.000</td><td>mg</td></tr>\n",
       "</tbody>\n",
       "</table>\n"
      ],
      "text/latex": [
       "A data.frame: 6 × 5\n",
       "\\begin{tabular}{r|lllll}\n",
       "  & X & SpeciesName & TraitName & StdValue & UnitName\\\\\n",
       "  & <int> & <chr> & <chr> & <dbl> & <chr>\\\\\n",
       "\\hline\n",
       "\t1 & 1 & Castanea sativa  & Seed dry mass & 1433.000 & mg\\\\\n",
       "\t2 & 2 & Fagus sylvatica  & Seed dry mass &  158.000 & mg\\\\\n",
       "\t3 & 3 & Larix decidua    & Seed dry mass &    6.244 & mg\\\\\n",
       "\t4 & 4 & Picea sitchensis & Seed dry mass &    2.940 & mg\\\\\n",
       "\t5 & 5 & Pinus sylvestris & Seed dry mass &    6.190 & mg\\\\\n",
       "\t6 & 6 & Quercus cerris   & Seed dry mass & 1900.000 & mg\\\\\n",
       "\\end{tabular}\n"
      ],
      "text/markdown": [
       "\n",
       "A data.frame: 6 × 5\n",
       "\n",
       "| <!--/--> | X &lt;int&gt; | SpeciesName &lt;chr&gt; | TraitName &lt;chr&gt; | StdValue &lt;dbl&gt; | UnitName &lt;chr&gt; |\n",
       "|---|---|---|---|---|---|\n",
       "| 1 | 1 | Castanea sativa  | Seed dry mass | 1433.000 | mg |\n",
       "| 2 | 2 | Fagus sylvatica  | Seed dry mass |  158.000 | mg |\n",
       "| 3 | 3 | Larix decidua    | Seed dry mass |    6.244 | mg |\n",
       "| 4 | 4 | Picea sitchensis | Seed dry mass |    2.940 | mg |\n",
       "| 5 | 5 | Pinus sylvestris | Seed dry mass |    6.190 | mg |\n",
       "| 6 | 6 | Quercus cerris   | Seed dry mass | 1900.000 | mg |\n",
       "\n"
      ],
      "text/plain": [
       "  X SpeciesName      TraitName     StdValue UnitName\n",
       "1 1 Castanea sativa  Seed dry mass 1433.000 mg      \n",
       "2 2 Fagus sylvatica  Seed dry mass  158.000 mg      \n",
       "3 3 Larix decidua    Seed dry mass    6.244 mg      \n",
       "4 4 Picea sitchensis Seed dry mass    2.940 mg      \n",
       "5 5 Pinus sylvestris Seed dry mass    6.190 mg      \n",
       "6 6 Quercus cerris   Seed dry mass 1900.000 mg      "
      ]
     },
     "metadata": {},
     "output_type": "display_data"
    },
    {
     "data": {
      "text/html": [
       "<table class=\"dataframe\">\n",
       "<caption>A data.frame: 6 × 24</caption>\n",
       "<thead>\n",
       "\t<tr><th></th><th scope=col>scientificName</th><th scope=col>countryCode</th><th scope=col>species</th><th scope=col>x</th><th scope=col>y</th><th scope=col>BIO1</th><th scope=col>BIO2</th><th scope=col>BIO3</th><th scope=col>BIO4</th><th scope=col>BIO5</th><th scope=col>⋯</th><th scope=col>BIO10</th><th scope=col>BIO11</th><th scope=col>BIO12</th><th scope=col>BIO13</th><th scope=col>BIO14</th><th scope=col>BIO15</th><th scope=col>BIO16</th><th scope=col>BIO17</th><th scope=col>BIO18</th><th scope=col>BIO19</th></tr>\n",
       "\t<tr><th></th><th scope=col>&lt;chr&gt;</th><th scope=col>&lt;chr&gt;</th><th scope=col>&lt;chr&gt;</th><th scope=col>&lt;dbl&gt;</th><th scope=col>&lt;dbl&gt;</th><th scope=col>&lt;dbl&gt;</th><th scope=col>&lt;dbl&gt;</th><th scope=col>&lt;dbl&gt;</th><th scope=col>&lt;dbl&gt;</th><th scope=col>&lt;dbl&gt;</th><th scope=col>⋯</th><th scope=col>&lt;dbl&gt;</th><th scope=col>&lt;dbl&gt;</th><th scope=col>&lt;dbl&gt;</th><th scope=col>&lt;dbl&gt;</th><th scope=col>&lt;dbl&gt;</th><th scope=col>&lt;dbl&gt;</th><th scope=col>&lt;dbl&gt;</th><th scope=col>&lt;dbl&gt;</th><th scope=col>&lt;dbl&gt;</th><th scope=col>&lt;dbl&gt;</th></tr>\n",
       "</thead>\n",
       "<tbody>\n",
       "\t<tr><th scope=row>1</th><td>Quercus robur L.         </td><td>DE</td><td>Quercus robur    </td><td>13.197520</td><td>52.48053</td><td>282.8060</td><td>11.56009</td><td>23.40577</td><td>697.0049</td><td>301.5184</td><td>⋯</td><td>290.7341</td><td>275.1877</td><td>0.6891775</td><td>0.2492599</td><td>0.0022743340</td><td>4.280466</td><td> 9.223780</td><td> 7.968918</td><td> 9.223780</td><td> 8.198037</td></tr>\n",
       "\t<tr><th scope=row>2</th><td>Fagus sylvatica L.       </td><td>DE</td><td>Fagus sylvatica  </td><td>10.635290</td><td>52.13933</td><td>282.2700</td><td>11.56496</td><td>24.08731</td><td>652.6573</td><td>300.2569</td><td>⋯</td><td>289.7771</td><td>275.1406</td><td>0.7945873</td><td>0.2119986</td><td>0.0041780071</td><td>3.993065</td><td>10.366795</td><td> 9.318233</td><td>10.366795</td><td> 9.613353</td></tr>\n",
       "\t<tr><th scope=row>3</th><td>Quercus palustris Münchh.</td><td>DE</td><td>Quercus palustris</td><td>12.388285</td><td>51.36412</td><td>282.7631</td><td>11.80689</td><td>23.66432</td><td>689.1375</td><td>300.6205</td><td>⋯</td><td>290.6756</td><td>275.2898</td><td>0.7198712</td><td>0.1815318</td><td>0.0009142933</td><td>3.985592</td><td> 9.298201</td><td> 8.278377</td><td> 9.298201</td><td> 8.949971</td></tr>\n",
       "\t<tr><th scope=row>4</th><td>Quercus robur L.         </td><td>DE</td><td>Quercus robur    </td><td>12.510908</td><td>50.72724</td><td>281.6990</td><td>12.49376</td><td>31.00520</td><td>682.9493</td><td>299.1687</td><td>⋯</td><td>289.4790</td><td>274.2594</td><td>0.9505705</td><td>0.2147094</td><td>0.0017349567</td><td>3.853150</td><td>12.087655</td><td>11.246518</td><td>12.087655</td><td>11.700603</td></tr>\n",
       "\t<tr><th scope=row>5</th><td>Fagus sylvatica L.       </td><td>DE</td><td>Fagus sylvatica  </td><td> 9.592076</td><td>51.47528</td><td>281.8596</td><td>11.29835</td><td>28.98178</td><td>635.9584</td><td>299.1519</td><td>⋯</td><td>289.1873</td><td>274.9467</td><td>0.8459014</td><td>0.2779124</td><td>0.0020681862</td><td>3.920097</td><td>10.731586</td><td>10.196636</td><td>10.731586</td><td>10.449787</td></tr>\n",
       "\t<tr><th scope=row>6</th><td>Quercus robur L.         </td><td>DE</td><td>Quercus robur    </td><td>12.791288</td><td>53.45432</td><td>282.0240</td><td>10.56826</td><td>22.84456</td><td>674.8423</td><td>299.6821</td><td>⋯</td><td>289.7753</td><td>274.4990</td><td>0.7309243</td><td>0.2611389</td><td>0.0026327982</td><td>4.086557</td><td> 9.681484</td><td> 8.469324</td><td> 9.681484</td><td> 8.544147</td></tr>\n",
       "</tbody>\n",
       "</table>\n"
      ],
      "text/latex": [
       "A data.frame: 6 × 24\n",
       "\\begin{tabular}{r|lllllllllllllllllllll}\n",
       "  & scientificName & countryCode & species & x & y & BIO1 & BIO2 & BIO3 & BIO4 & BIO5 & ⋯ & BIO10 & BIO11 & BIO12 & BIO13 & BIO14 & BIO15 & BIO16 & BIO17 & BIO18 & BIO19\\\\\n",
       "  & <chr> & <chr> & <chr> & <dbl> & <dbl> & <dbl> & <dbl> & <dbl> & <dbl> & <dbl> & ⋯ & <dbl> & <dbl> & <dbl> & <dbl> & <dbl> & <dbl> & <dbl> & <dbl> & <dbl> & <dbl>\\\\\n",
       "\\hline\n",
       "\t1 & Quercus robur L.          & DE & Quercus robur     & 13.197520 & 52.48053 & 282.8060 & 11.56009 & 23.40577 & 697.0049 & 301.5184 & ⋯ & 290.7341 & 275.1877 & 0.6891775 & 0.2492599 & 0.0022743340 & 4.280466 &  9.223780 &  7.968918 &  9.223780 &  8.198037\\\\\n",
       "\t2 & Fagus sylvatica L.        & DE & Fagus sylvatica   & 10.635290 & 52.13933 & 282.2700 & 11.56496 & 24.08731 & 652.6573 & 300.2569 & ⋯ & 289.7771 & 275.1406 & 0.7945873 & 0.2119986 & 0.0041780071 & 3.993065 & 10.366795 &  9.318233 & 10.366795 &  9.613353\\\\\n",
       "\t3 & Quercus palustris Münchh. & DE & Quercus palustris & 12.388285 & 51.36412 & 282.7631 & 11.80689 & 23.66432 & 689.1375 & 300.6205 & ⋯ & 290.6756 & 275.2898 & 0.7198712 & 0.1815318 & 0.0009142933 & 3.985592 &  9.298201 &  8.278377 &  9.298201 &  8.949971\\\\\n",
       "\t4 & Quercus robur L.          & DE & Quercus robur     & 12.510908 & 50.72724 & 281.6990 & 12.49376 & 31.00520 & 682.9493 & 299.1687 & ⋯ & 289.4790 & 274.2594 & 0.9505705 & 0.2147094 & 0.0017349567 & 3.853150 & 12.087655 & 11.246518 & 12.087655 & 11.700603\\\\\n",
       "\t5 & Fagus sylvatica L.        & DE & Fagus sylvatica   &  9.592076 & 51.47528 & 281.8596 & 11.29835 & 28.98178 & 635.9584 & 299.1519 & ⋯ & 289.1873 & 274.9467 & 0.8459014 & 0.2779124 & 0.0020681862 & 3.920097 & 10.731586 & 10.196636 & 10.731586 & 10.449787\\\\\n",
       "\t6 & Quercus robur L.          & DE & Quercus robur     & 12.791288 & 53.45432 & 282.0240 & 10.56826 & 22.84456 & 674.8423 & 299.6821 & ⋯ & 289.7753 & 274.4990 & 0.7309243 & 0.2611389 & 0.0026327982 & 4.086557 &  9.681484 &  8.469324 &  9.681484 &  8.544147\\\\\n",
       "\\end{tabular}\n"
      ],
      "text/markdown": [
       "\n",
       "A data.frame: 6 × 24\n",
       "\n",
       "| <!--/--> | scientificName &lt;chr&gt; | countryCode &lt;chr&gt; | species &lt;chr&gt; | x &lt;dbl&gt; | y &lt;dbl&gt; | BIO1 &lt;dbl&gt; | BIO2 &lt;dbl&gt; | BIO3 &lt;dbl&gt; | BIO4 &lt;dbl&gt; | BIO5 &lt;dbl&gt; | ⋯ ⋯ | BIO10 &lt;dbl&gt; | BIO11 &lt;dbl&gt; | BIO12 &lt;dbl&gt; | BIO13 &lt;dbl&gt; | BIO14 &lt;dbl&gt; | BIO15 &lt;dbl&gt; | BIO16 &lt;dbl&gt; | BIO17 &lt;dbl&gt; | BIO18 &lt;dbl&gt; | BIO19 &lt;dbl&gt; |\n",
       "|---|---|---|---|---|---|---|---|---|---|---|---|---|---|---|---|---|---|---|---|---|---|\n",
       "| 1 | Quercus robur L.          | DE | Quercus robur     | 13.197520 | 52.48053 | 282.8060 | 11.56009 | 23.40577 | 697.0049 | 301.5184 | ⋯ | 290.7341 | 275.1877 | 0.6891775 | 0.2492599 | 0.0022743340 | 4.280466 |  9.223780 |  7.968918 |  9.223780 |  8.198037 |\n",
       "| 2 | Fagus sylvatica L.        | DE | Fagus sylvatica   | 10.635290 | 52.13933 | 282.2700 | 11.56496 | 24.08731 | 652.6573 | 300.2569 | ⋯ | 289.7771 | 275.1406 | 0.7945873 | 0.2119986 | 0.0041780071 | 3.993065 | 10.366795 |  9.318233 | 10.366795 |  9.613353 |\n",
       "| 3 | Quercus palustris Münchh. | DE | Quercus palustris | 12.388285 | 51.36412 | 282.7631 | 11.80689 | 23.66432 | 689.1375 | 300.6205 | ⋯ | 290.6756 | 275.2898 | 0.7198712 | 0.1815318 | 0.0009142933 | 3.985592 |  9.298201 |  8.278377 |  9.298201 |  8.949971 |\n",
       "| 4 | Quercus robur L.          | DE | Quercus robur     | 12.510908 | 50.72724 | 281.6990 | 12.49376 | 31.00520 | 682.9493 | 299.1687 | ⋯ | 289.4790 | 274.2594 | 0.9505705 | 0.2147094 | 0.0017349567 | 3.853150 | 12.087655 | 11.246518 | 12.087655 | 11.700603 |\n",
       "| 5 | Fagus sylvatica L.        | DE | Fagus sylvatica   |  9.592076 | 51.47528 | 281.8596 | 11.29835 | 28.98178 | 635.9584 | 299.1519 | ⋯ | 289.1873 | 274.9467 | 0.8459014 | 0.2779124 | 0.0020681862 | 3.920097 | 10.731586 | 10.196636 | 10.731586 | 10.449787 |\n",
       "| 6 | Quercus robur L.          | DE | Quercus robur     | 12.791288 | 53.45432 | 282.0240 | 10.56826 | 22.84456 | 674.8423 | 299.6821 | ⋯ | 289.7753 | 274.4990 | 0.7309243 | 0.2611389 | 0.0026327982 | 4.086557 |  9.681484 |  8.469324 |  9.681484 |  8.544147 |\n",
       "\n"
      ],
      "text/plain": [
       "  scientificName            countryCode species           x         y       \n",
       "1 Quercus robur L.          DE          Quercus robur     13.197520 52.48053\n",
       "2 Fagus sylvatica L.        DE          Fagus sylvatica   10.635290 52.13933\n",
       "3 Quercus palustris Münchh. DE          Quercus palustris 12.388285 51.36412\n",
       "4 Quercus robur L.          DE          Quercus robur     12.510908 50.72724\n",
       "5 Fagus sylvatica L.        DE          Fagus sylvatica    9.592076 51.47528\n",
       "6 Quercus robur L.          DE          Quercus robur     12.791288 53.45432\n",
       "  BIO1     BIO2     BIO3     BIO4     BIO5     ⋯ BIO10    BIO11    BIO12    \n",
       "1 282.8060 11.56009 23.40577 697.0049 301.5184 ⋯ 290.7341 275.1877 0.6891775\n",
       "2 282.2700 11.56496 24.08731 652.6573 300.2569 ⋯ 289.7771 275.1406 0.7945873\n",
       "3 282.7631 11.80689 23.66432 689.1375 300.6205 ⋯ 290.6756 275.2898 0.7198712\n",
       "4 281.6990 12.49376 31.00520 682.9493 299.1687 ⋯ 289.4790 274.2594 0.9505705\n",
       "5 281.8596 11.29835 28.98178 635.9584 299.1519 ⋯ 289.1873 274.9467 0.8459014\n",
       "6 282.0240 10.56826 22.84456 674.8423 299.6821 ⋯ 289.7753 274.4990 0.7309243\n",
       "  BIO13     BIO14        BIO15    BIO16     BIO17     BIO18     BIO19    \n",
       "1 0.2492599 0.0022743340 4.280466  9.223780  7.968918  9.223780  8.198037\n",
       "2 0.2119986 0.0041780071 3.993065 10.366795  9.318233 10.366795  9.613353\n",
       "3 0.1815318 0.0009142933 3.985592  9.298201  8.278377  9.298201  8.949971\n",
       "4 0.2147094 0.0017349567 3.853150 12.087655 11.246518 12.087655 11.700603\n",
       "5 0.2779124 0.0020681862 3.920097 10.731586 10.196636 10.731586 10.449787\n",
       "6 0.2611389 0.0026327982 4.086557  9.681484  8.469324  9.681484  8.544147"
      ]
     },
     "metadata": {},
     "output_type": "display_data"
    }
   ],
   "source": [
    "head(try)\n",
    "head(gbif)"
   ]
  },
  {
   "cell_type": "markdown",
   "id": "c0405759-a294-4203-a202-00e8fcd298b7",
   "metadata": {},
   "source": [
    "Let's pick a variable of interest (I will use \"Plant height vegetative\").\n"
   ]
  },
  {
   "cell_type": "code",
   "execution_count": 22,
   "id": "e2a6c440-cdee-4502-aaf8-e5855f692af3",
   "metadata": {
    "vscode": {
     "languageId": "r"
    }
   },
   "outputs": [],
   "source": [
    "try_height <- try |> filter(TraitName == \"Plant height vegetative\") |> \n",
    "  group_by(SpeciesName) |> \n",
    "  summarise(var_height = var(StdValue, na.rm = TRUE), n = n())\n",
    "\n",
    "\n",
    "# Summarize environmentla covariate\n",
    "gbif_temp <- gbif |> group_by(species) |> \n",
    "  summarize(var_temp = var(BIO1, na.rm = TRUE))\n",
    "\n",
    "dat <- left_join(gbif_temp, try_height, by = c(\"species\" = \"SpeciesName\"))\n",
    "\n"
   ]
  },
  {
   "cell_type": "markdown",
   "id": "971ced0b-35dc-41bf-a014-90af6c315654",
   "metadata": {},
   "source": [
    "Now we can take this data and create a plot."
   ]
  },
  {
   "cell_type": "code",
   "execution_count": 25,
   "id": "5fe14d39-7edd-4388-954a-aa955a707e48",
   "metadata": {
    "vscode": {
     "languageId": "r"
    }
   },
   "outputs": [
    {
     "name": "stderr",
     "output_type": "stream",
     "text": [
      "Warning message:\n",
      "“\u001b[1m\u001b[22mRemoved 73 rows containing missing values or values outside the scale range\n",
      "(`geom_point()`).”\n"
     ]
    },
    {
     "data": {
      "image/png": "[encoded data removed]",
      "text/plain": [
       "plot without title"
      ]
     },
     "metadata": {
      "image/png": {
       "height": 420,
       "width": 420
      }
     },
     "output_type": "display_data"
    }
   ],
   "source": [
    "a <- 1:10\n",
    "ggplot(dat, aes(var_temp, var_height)) + geom_point()"
   ]
  },
  {
   "cell_type": "code",
   "execution_count": 25,
   "id": "e61f5b90-751a-4e6c-973f-1f5e8305c11e",
   "metadata": {
    "vscode": {
     "languageId": "r"
    }
   },
   "outputs": [
    {
     "name": "stderr",
     "output_type": "stream",
     "text": [
      "Warning message:\n",
      "“\u001b[1m\u001b[22mRemoved 73 rows containing missing values or values outside the scale range\n",
      "(`geom_point()`).”\n"
     ]
    },
    {
     "data": {
      "image/png": "[encoded data removed]",
      "text/plain": [
       "plot without title"
      ]
     },
     "metadata": {
      "image/png": {
       "height": 420,
       "width": 420
      }
     },
     "output_type": "display_data"
    }
   ],
   "source": [
    "ggplot(dat, aes(var_temp, var_height)) + geom_point()"
   ]
  },
  {
   "cell_type": "code",
   "execution_count": null,
   "id": "75f6985e-ff11-40cd-bdea-b46b1f530e03",
   "metadata": {
    "vscode": {
     "languageId": "r"
    }
   },
   "outputs": [],
   "source": []
  }
 ],
 "metadata": {
  "kernelspec": {
   "display_name": "R",
   "language": "R",
   "name": "ir"
  },
  "language_info": {
   "codemirror_mode": "r",
   "file_extension": ".r",
   "mimetype": "text/x-r-source",
   "name": "R",
   "pygments_lexer": "r",
   "version": "4.1.2"
  }
 },
 "nbformat": 4,
 "nbformat_minor": 5
}
